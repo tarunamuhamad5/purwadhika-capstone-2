{
 "cells": [
  {
   "cell_type": "code",
   "execution_count": 1,
   "id": "170ed9a8",
   "metadata": {},
   "outputs": [],
   "source": [
    "import mysql.connector\n",
    "import pandas as pd"
   ]
  },
  {
   "cell_type": "code",
   "execution_count": 2,
   "id": "2c7e2d9f",
   "metadata": {},
   "outputs": [],
   "source": [
    "sql_enggine = mysql.connector.connect(\n",
    "    host= \"localhost\",\n",
    "    port=3306,\n",
    "    user='root',\n",
    "    password=\"abcde12345\",\n",
    "    database=\"employees\"\n",
    ")"
   ]
  },
  {
   "cell_type": "code",
   "execution_count": null,
   "id": "19b1d813",
   "metadata": {},
   "outputs": [
    {
     "data": {
      "application/vnd.microsoft.datawrangler.viewer.v0+json": {
       "columns": [
        {
         "name": "index",
         "rawType": "int64",
         "type": "integer"
        },
        {
         "name": "emp_no",
         "rawType": "int64",
         "type": "integer"
        },
        {
         "name": "birth_date",
         "rawType": "object",
         "type": "unknown"
        },
        {
         "name": "first_name",
         "rawType": "object",
         "type": "string"
        },
        {
         "name": "last_name",
         "rawType": "object",
         "type": "string"
        },
        {
         "name": "gender",
         "rawType": "object",
         "type": "string"
        },
        {
         "name": "hire_date",
         "rawType": "object",
         "type": "unknown"
        }
       ],
       "ref": "19a9d5a5-6d2e-4ccf-952b-ed26ef75f090",
       "rows": [
        [
         "0",
         "10001",
         "1953-09-02",
         "Georgi",
         "Facello",
         "M",
         "1986-06-26"
        ],
        [
         "1",
         "10003",
         "1959-12-03",
         "Parto",
         "Bamford",
         "M",
         "1986-08-28"
        ],
        [
         "2",
         "10004",
         "1954-05-01",
         "Chirstian",
         "Koblick",
         "M",
         "1986-12-01"
        ],
        [
         "3",
         "10005",
         "1955-01-21",
         "Kyoichi",
         "Maliniak",
         "M",
         "1989-09-12"
        ],
        [
         "4",
         "10008",
         "1958-02-19",
         "Saniya",
         "Kalloufi",
         "M",
         "1994-09-15"
        ],
        [
         "5",
         "10012",
         "1960-10-04",
         "Patricio",
         "Bridgland",
         "M",
         "1992-12-18"
        ],
        [
         "6",
         "10013",
         "1963-06-07",
         "Eberhardt",
         "Terkki",
         "M",
         "1985-10-20"
        ],
        [
         "7",
         "10014",
         "1956-02-12",
         "Berni",
         "Genin",
         "M",
         "1987-03-11"
        ],
        [
         "8",
         "10015",
         "1959-08-19",
         "Guoxiang",
         "Nooteboom",
         "M",
         "1987-07-02"
        ],
        [
         "9",
         "10016",
         "1961-05-02",
         "Kazuhito",
         "Cappelletti",
         "M",
         "1995-01-27"
        ],
        [
         "10",
         "10019",
         "1953-01-23",
         "Lillian",
         "Haddadi",
         "M",
         "1999-04-30"
        ],
        [
         "11",
         "10020",
         "1952-12-24",
         "Mayuko",
         "Warwick",
         "M",
         "1991-01-26"
        ],
        [
         "12",
         "10021",
         "1960-02-20",
         "Ramzi",
         "Erde",
         "M",
         "1988-02-10"
        ],
        [
         "13",
         "10022",
         "1952-07-08",
         "Shahaf",
         "Famili",
         "M",
         "1995-08-22"
        ],
        [
         "14",
         "10025",
         "1958-10-31",
         "Prasadram",
         "Heyers",
         "M",
         "1987-08-17"
        ],
        [
         "15",
         "10026",
         "1953-04-03",
         "Yongqiao",
         "Berztiss",
         "M",
         "1995-03-20"
        ],
        [
         "16",
         "10028",
         "1963-11-26",
         "Domenick",
         "Tempesti",
         "M",
         "1991-10-22"
        ],
        [
         "17",
         "10029",
         "1956-12-13",
         "Otmar",
         "Herbst",
         "M",
         "1985-11-20"
        ],
        [
         "18",
         "10030",
         "1958-07-14",
         "Elvis",
         "Demeyer",
         "M",
         "1994-02-17"
        ],
        [
         "19",
         "10031",
         "1959-01-27",
         "Karsten",
         "Joslin",
         "M",
         "1991-09-01"
        ],
        [
         "20",
         "10033",
         "1956-11-14",
         "Arif",
         "Merlo",
         "M",
         "1987-03-18"
        ],
        [
         "21",
         "10034",
         "1962-12-29",
         "Bader",
         "Swan",
         "M",
         "1988-09-21"
        ],
        [
         "22",
         "10035",
         "1953-02-08",
         "Alain",
         "Chappelet",
         "M",
         "1988-09-05"
        ],
        [
         "23",
         "10036",
         "1959-08-10",
         "Adamantios",
         "Portugali",
         "M",
         "1992-01-03"
        ],
        [
         "24",
         "10037",
         "1963-07-22",
         "Pradeep",
         "Makrucki",
         "M",
         "1990-12-05"
        ],
        [
         "25",
         "10038",
         "1960-07-20",
         "Huan",
         "Lortz",
         "M",
         "1989-09-20"
        ],
        [
         "26",
         "10039",
         "1959-10-01",
         "Alejandro",
         "Brender",
         "M",
         "1988-01-19"
        ],
        [
         "27",
         "10043",
         "1960-09-19",
         "Yishay",
         "Tzvieli",
         "M",
         "1990-10-20"
        ],
        [
         "28",
         "10045",
         "1957-08-14",
         "Moss",
         "Shanbhogue",
         "M",
         "1989-09-02"
        ],
        [
         "29",
         "10046",
         "1960-07-23",
         "Lucien",
         "Rosenbaum",
         "M",
         "1992-06-20"
        ],
        [
         "30",
         "10047",
         "1952-06-29",
         "Zvonko",
         "Nyanchama",
         "M",
         "1989-03-31"
        ],
        [
         "31",
         "10048",
         "1963-07-11",
         "Florian",
         "Syrotiuk",
         "M",
         "1985-02-24"
        ],
        [
         "32",
         "10050",
         "1958-05-21",
         "Yinghua",
         "Dredge",
         "M",
         "1990-12-25"
        ],
        [
         "33",
         "10051",
         "1953-07-28",
         "Hidefumi",
         "Caine",
         "M",
         "1992-10-15"
        ],
        [
         "34",
         "10052",
         "1961-02-26",
         "Heping",
         "Nitsch",
         "M",
         "1988-05-21"
        ],
        [
         "35",
         "10054",
         "1957-04-04",
         "Mayumi",
         "Schueller",
         "M",
         "1995-03-13"
        ],
        [
         "36",
         "10055",
         "1956-06-06",
         "Georgy",
         "Dredge",
         "M",
         "1992-04-27"
        ],
        [
         "37",
         "10058",
         "1954-10-01",
         "Berhard",
         "McFarlin",
         "M",
         "1987-04-13"
        ],
        [
         "38",
         "10060",
         "1961-10-15",
         "Breannda",
         "Billingsley",
         "M",
         "1987-11-02"
        ],
        [
         "39",
         "10061",
         "1962-10-19",
         "Tse",
         "Herber",
         "M",
         "1985-09-17"
        ],
        [
         "40",
         "10062",
         "1961-11-02",
         "Anoosh",
         "Peyn",
         "M",
         "1991-08-30"
        ],
        [
         "41",
         "10064",
         "1959-04-07",
         "Udi",
         "Jansch",
         "M",
         "1985-11-20"
        ],
        [
         "42",
         "10065",
         "1963-04-14",
         "Satosi",
         "Awdeh",
         "M",
         "1988-05-18"
        ],
        [
         "43",
         "10066",
         "1952-11-13",
         "Kwee",
         "Schusler",
         "M",
         "1986-02-26"
        ],
        [
         "44",
         "10067",
         "1953-01-07",
         "Claudi",
         "Stavenow",
         "M",
         "1987-03-04"
        ],
        [
         "45",
         "10068",
         "1962-11-26",
         "Charlene",
         "Brattka",
         "M",
         "1987-08-07"
        ],
        [
         "46",
         "10070",
         "1955-08-20",
         "Reuven",
         "Garigliano",
         "M",
         "1985-10-14"
        ],
        [
         "47",
         "10071",
         "1958-01-21",
         "Hisao",
         "Lipner",
         "M",
         "1987-10-01"
        ],
        [
         "48",
         "10073",
         "1954-02-23",
         "Shir",
         "McClurg",
         "M",
         "1991-12-01"
        ],
        [
         "49",
         "10077",
         "1964-04-18",
         "Mona",
         "Azuma",
         "M",
         "1990-03-02"
        ]
       ],
       "shape": {
        "columns": 6,
        "rows": 179972
       }
      },
      "text/html": [
       "<div>\n",
       "<style scoped>\n",
       "    .dataframe tbody tr th:only-of-type {\n",
       "        vertical-align: middle;\n",
       "    }\n",
       "\n",
       "    .dataframe tbody tr th {\n",
       "        vertical-align: top;\n",
       "    }\n",
       "\n",
       "    .dataframe thead th {\n",
       "        text-align: right;\n",
       "    }\n",
       "</style>\n",
       "<table border=\"1\" class=\"dataframe\">\n",
       "  <thead>\n",
       "    <tr style=\"text-align: right;\">\n",
       "      <th></th>\n",
       "      <th>emp_no</th>\n",
       "      <th>birth_date</th>\n",
       "      <th>first_name</th>\n",
       "      <th>last_name</th>\n",
       "      <th>gender</th>\n",
       "      <th>hire_date</th>\n",
       "    </tr>\n",
       "  </thead>\n",
       "  <tbody>\n",
       "    <tr>\n",
       "      <th>0</th>\n",
       "      <td>10001</td>\n",
       "      <td>1953-09-02</td>\n",
       "      <td>Georgi</td>\n",
       "      <td>Facello</td>\n",
       "      <td>M</td>\n",
       "      <td>1986-06-26</td>\n",
       "    </tr>\n",
       "    <tr>\n",
       "      <th>1</th>\n",
       "      <td>10003</td>\n",
       "      <td>1959-12-03</td>\n",
       "      <td>Parto</td>\n",
       "      <td>Bamford</td>\n",
       "      <td>M</td>\n",
       "      <td>1986-08-28</td>\n",
       "    </tr>\n",
       "    <tr>\n",
       "      <th>2</th>\n",
       "      <td>10004</td>\n",
       "      <td>1954-05-01</td>\n",
       "      <td>Chirstian</td>\n",
       "      <td>Koblick</td>\n",
       "      <td>M</td>\n",
       "      <td>1986-12-01</td>\n",
       "    </tr>\n",
       "    <tr>\n",
       "      <th>3</th>\n",
       "      <td>10005</td>\n",
       "      <td>1955-01-21</td>\n",
       "      <td>Kyoichi</td>\n",
       "      <td>Maliniak</td>\n",
       "      <td>M</td>\n",
       "      <td>1989-09-12</td>\n",
       "    </tr>\n",
       "    <tr>\n",
       "      <th>4</th>\n",
       "      <td>10008</td>\n",
       "      <td>1958-02-19</td>\n",
       "      <td>Saniya</td>\n",
       "      <td>Kalloufi</td>\n",
       "      <td>M</td>\n",
       "      <td>1994-09-15</td>\n",
       "    </tr>\n",
       "    <tr>\n",
       "      <th>...</th>\n",
       "      <td>...</td>\n",
       "      <td>...</td>\n",
       "      <td>...</td>\n",
       "      <td>...</td>\n",
       "      <td>...</td>\n",
       "      <td>...</td>\n",
       "    </tr>\n",
       "    <tr>\n",
       "      <th>179967</th>\n",
       "      <td>499993</td>\n",
       "      <td>1963-06-04</td>\n",
       "      <td>DeForest</td>\n",
       "      <td>Mullainathan</td>\n",
       "      <td>M</td>\n",
       "      <td>1997-04-07</td>\n",
       "    </tr>\n",
       "    <tr>\n",
       "      <th>179968</th>\n",
       "      <td>499996</td>\n",
       "      <td>1953-03-07</td>\n",
       "      <td>Zito</td>\n",
       "      <td>Baaz</td>\n",
       "      <td>M</td>\n",
       "      <td>1990-09-27</td>\n",
       "    </tr>\n",
       "    <tr>\n",
       "      <th>179969</th>\n",
       "      <td>499997</td>\n",
       "      <td>1961-08-03</td>\n",
       "      <td>Berhard</td>\n",
       "      <td>Lenart</td>\n",
       "      <td>M</td>\n",
       "      <td>1986-04-21</td>\n",
       "    </tr>\n",
       "    <tr>\n",
       "      <th>179970</th>\n",
       "      <td>499998</td>\n",
       "      <td>1956-09-05</td>\n",
       "      <td>Patricia</td>\n",
       "      <td>Breugel</td>\n",
       "      <td>M</td>\n",
       "      <td>1993-10-13</td>\n",
       "    </tr>\n",
       "    <tr>\n",
       "      <th>179971</th>\n",
       "      <td>499999</td>\n",
       "      <td>1958-05-01</td>\n",
       "      <td>Sachin</td>\n",
       "      <td>Tsukuda</td>\n",
       "      <td>M</td>\n",
       "      <td>1997-11-30</td>\n",
       "    </tr>\n",
       "  </tbody>\n",
       "</table>\n",
       "<p>179972 rows × 6 columns</p>\n",
       "</div>"
      ],
      "text/plain": [
       "        emp_no  birth_date first_name     last_name gender   hire_date\n",
       "0        10001  1953-09-02     Georgi       Facello      M  1986-06-26\n",
       "1        10003  1959-12-03      Parto       Bamford      M  1986-08-28\n",
       "2        10004  1954-05-01  Chirstian       Koblick      M  1986-12-01\n",
       "3        10005  1955-01-21    Kyoichi      Maliniak      M  1989-09-12\n",
       "4        10008  1958-02-19     Saniya      Kalloufi      M  1994-09-15\n",
       "...        ...         ...        ...           ...    ...         ...\n",
       "179967  499993  1963-06-04   DeForest  Mullainathan      M  1997-04-07\n",
       "179968  499996  1953-03-07       Zito          Baaz      M  1990-09-27\n",
       "179969  499997  1961-08-03    Berhard        Lenart      M  1986-04-21\n",
       "179970  499998  1956-09-05   Patricia       Breugel      M  1993-10-13\n",
       "179971  499999  1958-05-01     Sachin       Tsukuda      M  1997-11-30\n",
       "\n",
       "[179972 rows x 6 columns]"
      ]
     },
     "execution_count": 13,
     "metadata": {},
     "output_type": "execute_result"
    }
   ],
   "source": [
    "cursor = sql_enggine.cursor()\n",
    "query = \"select * from employees\"\n",
    "cursor.execute(query)\n",
    "result = cursor.fetchall()\n",
    "\n",
    "df = pd.DataFrame(result, columns = cursor.column_names)\n",
    "df"
   ]
  },
  {
   "cell_type": "code",
   "execution_count": null,
   "id": "6b9fe813",
   "metadata": {},
   "outputs": [
    {
     "data": {
      "application/vnd.microsoft.datawrangler.viewer.v0+json": {
       "columns": [
        {
         "name": "index",
         "rawType": "int64",
         "type": "integer"
        },
        {
         "name": "emp_no",
         "rawType": "int64",
         "type": "integer"
        },
        {
         "name": "birth_date",
         "rawType": "object",
         "type": "unknown"
        },
        {
         "name": "first_name",
         "rawType": "object",
         "type": "string"
        },
        {
         "name": "last_name",
         "rawType": "object",
         "type": "string"
        },
        {
         "name": "gender",
         "rawType": "object",
         "type": "string"
        },
        {
         "name": "hire_date",
         "rawType": "object",
         "type": "unknown"
        }
       ],
       "ref": "8d55c0da-92a5-436a-9c75-4e3842a5c6dd",
       "rows": [
        [
         "0",
         "10001",
         "1953-09-02",
         "Georgi",
         "Facello",
         "M",
         "1986-06-26"
        ],
        [
         "2",
         "10003",
         "1959-12-03",
         "Parto",
         "Bamford",
         "M",
         "1986-08-28"
        ],
        [
         "3",
         "10004",
         "1954-05-01",
         "Chirstian",
         "Koblick",
         "M",
         "1986-12-01"
        ],
        [
         "4",
         "10005",
         "1955-01-21",
         "Kyoichi",
         "Maliniak",
         "M",
         "1989-09-12"
        ],
        [
         "7",
         "10008",
         "1958-02-19",
         "Saniya",
         "Kalloufi",
         "M",
         "1994-09-15"
        ],
        [
         "11",
         "10012",
         "1960-10-04",
         "Patricio",
         "Bridgland",
         "M",
         "1992-12-18"
        ],
        [
         "12",
         "10013",
         "1963-06-07",
         "Eberhardt",
         "Terkki",
         "M",
         "1985-10-20"
        ],
        [
         "13",
         "10014",
         "1956-02-12",
         "Berni",
         "Genin",
         "M",
         "1987-03-11"
        ],
        [
         "14",
         "10015",
         "1959-08-19",
         "Guoxiang",
         "Nooteboom",
         "M",
         "1987-07-02"
        ],
        [
         "15",
         "10016",
         "1961-05-02",
         "Kazuhito",
         "Cappelletti",
         "M",
         "1995-01-27"
        ],
        [
         "18",
         "10019",
         "1953-01-23",
         "Lillian",
         "Haddadi",
         "M",
         "1999-04-30"
        ],
        [
         "19",
         "10020",
         "1952-12-24",
         "Mayuko",
         "Warwick",
         "M",
         "1991-01-26"
        ],
        [
         "20",
         "10021",
         "1960-02-20",
         "Ramzi",
         "Erde",
         "M",
         "1988-02-10"
        ],
        [
         "21",
         "10022",
         "1952-07-08",
         "Shahaf",
         "Famili",
         "M",
         "1995-08-22"
        ],
        [
         "24",
         "10025",
         "1958-10-31",
         "Prasadram",
         "Heyers",
         "M",
         "1987-08-17"
        ],
        [
         "25",
         "10026",
         "1953-04-03",
         "Yongqiao",
         "Berztiss",
         "M",
         "1995-03-20"
        ],
        [
         "27",
         "10028",
         "1963-11-26",
         "Domenick",
         "Tempesti",
         "M",
         "1991-10-22"
        ],
        [
         "28",
         "10029",
         "1956-12-13",
         "Otmar",
         "Herbst",
         "M",
         "1985-11-20"
        ],
        [
         "29",
         "10030",
         "1958-07-14",
         "Elvis",
         "Demeyer",
         "M",
         "1994-02-17"
        ],
        [
         "30",
         "10031",
         "1959-01-27",
         "Karsten",
         "Joslin",
         "M",
         "1991-09-01"
        ],
        [
         "32",
         "10033",
         "1956-11-14",
         "Arif",
         "Merlo",
         "M",
         "1987-03-18"
        ],
        [
         "33",
         "10034",
         "1962-12-29",
         "Bader",
         "Swan",
         "M",
         "1988-09-21"
        ],
        [
         "34",
         "10035",
         "1953-02-08",
         "Alain",
         "Chappelet",
         "M",
         "1988-09-05"
        ],
        [
         "35",
         "10036",
         "1959-08-10",
         "Adamantios",
         "Portugali",
         "M",
         "1992-01-03"
        ],
        [
         "36",
         "10037",
         "1963-07-22",
         "Pradeep",
         "Makrucki",
         "M",
         "1990-12-05"
        ],
        [
         "37",
         "10038",
         "1960-07-20",
         "Huan",
         "Lortz",
         "M",
         "1989-09-20"
        ],
        [
         "38",
         "10039",
         "1959-10-01",
         "Alejandro",
         "Brender",
         "M",
         "1988-01-19"
        ],
        [
         "42",
         "10043",
         "1960-09-19",
         "Yishay",
         "Tzvieli",
         "M",
         "1990-10-20"
        ],
        [
         "44",
         "10045",
         "1957-08-14",
         "Moss",
         "Shanbhogue",
         "M",
         "1989-09-02"
        ],
        [
         "45",
         "10046",
         "1960-07-23",
         "Lucien",
         "Rosenbaum",
         "M",
         "1992-06-20"
        ],
        [
         "46",
         "10047",
         "1952-06-29",
         "Zvonko",
         "Nyanchama",
         "M",
         "1989-03-31"
        ],
        [
         "47",
         "10048",
         "1963-07-11",
         "Florian",
         "Syrotiuk",
         "M",
         "1985-02-24"
        ],
        [
         "49",
         "10050",
         "1958-05-21",
         "Yinghua",
         "Dredge",
         "M",
         "1990-12-25"
        ],
        [
         "50",
         "10051",
         "1953-07-28",
         "Hidefumi",
         "Caine",
         "M",
         "1992-10-15"
        ],
        [
         "51",
         "10052",
         "1961-02-26",
         "Heping",
         "Nitsch",
         "M",
         "1988-05-21"
        ],
        [
         "53",
         "10054",
         "1957-04-04",
         "Mayumi",
         "Schueller",
         "M",
         "1995-03-13"
        ],
        [
         "54",
         "10055",
         "1956-06-06",
         "Georgy",
         "Dredge",
         "M",
         "1992-04-27"
        ],
        [
         "57",
         "10058",
         "1954-10-01",
         "Berhard",
         "McFarlin",
         "M",
         "1987-04-13"
        ],
        [
         "59",
         "10060",
         "1961-10-15",
         "Breannda",
         "Billingsley",
         "M",
         "1987-11-02"
        ],
        [
         "60",
         "10061",
         "1962-10-19",
         "Tse",
         "Herber",
         "M",
         "1985-09-17"
        ],
        [
         "61",
         "10062",
         "1961-11-02",
         "Anoosh",
         "Peyn",
         "M",
         "1991-08-30"
        ],
        [
         "63",
         "10064",
         "1959-04-07",
         "Udi",
         "Jansch",
         "M",
         "1985-11-20"
        ],
        [
         "64",
         "10065",
         "1963-04-14",
         "Satosi",
         "Awdeh",
         "M",
         "1988-05-18"
        ],
        [
         "65",
         "10066",
         "1952-11-13",
         "Kwee",
         "Schusler",
         "M",
         "1986-02-26"
        ],
        [
         "66",
         "10067",
         "1953-01-07",
         "Claudi",
         "Stavenow",
         "M",
         "1987-03-04"
        ],
        [
         "67",
         "10068",
         "1962-11-26",
         "Charlene",
         "Brattka",
         "M",
         "1987-08-07"
        ],
        [
         "69",
         "10070",
         "1955-08-20",
         "Reuven",
         "Garigliano",
         "M",
         "1985-10-14"
        ],
        [
         "70",
         "10071",
         "1958-01-21",
         "Hisao",
         "Lipner",
         "M",
         "1987-10-01"
        ],
        [
         "72",
         "10073",
         "1954-02-23",
         "Shir",
         "McClurg",
         "M",
         "1991-12-01"
        ],
        [
         "76",
         "10077",
         "1964-04-18",
         "Mona",
         "Azuma",
         "M",
         "1990-03-02"
        ]
       ],
       "shape": {
        "columns": 6,
        "rows": 179972
       }
      },
      "text/html": [
       "<div>\n",
       "<style scoped>\n",
       "    .dataframe tbody tr th:only-of-type {\n",
       "        vertical-align: middle;\n",
       "    }\n",
       "\n",
       "    .dataframe tbody tr th {\n",
       "        vertical-align: top;\n",
       "    }\n",
       "\n",
       "    .dataframe thead th {\n",
       "        text-align: right;\n",
       "    }\n",
       "</style>\n",
       "<table border=\"1\" class=\"dataframe\">\n",
       "  <thead>\n",
       "    <tr style=\"text-align: right;\">\n",
       "      <th></th>\n",
       "      <th>emp_no</th>\n",
       "      <th>birth_date</th>\n",
       "      <th>first_name</th>\n",
       "      <th>last_name</th>\n",
       "      <th>gender</th>\n",
       "      <th>hire_date</th>\n",
       "    </tr>\n",
       "  </thead>\n",
       "  <tbody>\n",
       "    <tr>\n",
       "      <th>0</th>\n",
       "      <td>10001</td>\n",
       "      <td>1953-09-02</td>\n",
       "      <td>Georgi</td>\n",
       "      <td>Facello</td>\n",
       "      <td>M</td>\n",
       "      <td>1986-06-26</td>\n",
       "    </tr>\n",
       "    <tr>\n",
       "      <th>2</th>\n",
       "      <td>10003</td>\n",
       "      <td>1959-12-03</td>\n",
       "      <td>Parto</td>\n",
       "      <td>Bamford</td>\n",
       "      <td>M</td>\n",
       "      <td>1986-08-28</td>\n",
       "    </tr>\n",
       "    <tr>\n",
       "      <th>3</th>\n",
       "      <td>10004</td>\n",
       "      <td>1954-05-01</td>\n",
       "      <td>Chirstian</td>\n",
       "      <td>Koblick</td>\n",
       "      <td>M</td>\n",
       "      <td>1986-12-01</td>\n",
       "    </tr>\n",
       "    <tr>\n",
       "      <th>4</th>\n",
       "      <td>10005</td>\n",
       "      <td>1955-01-21</td>\n",
       "      <td>Kyoichi</td>\n",
       "      <td>Maliniak</td>\n",
       "      <td>M</td>\n",
       "      <td>1989-09-12</td>\n",
       "    </tr>\n",
       "    <tr>\n",
       "      <th>7</th>\n",
       "      <td>10008</td>\n",
       "      <td>1958-02-19</td>\n",
       "      <td>Saniya</td>\n",
       "      <td>Kalloufi</td>\n",
       "      <td>M</td>\n",
       "      <td>1994-09-15</td>\n",
       "    </tr>\n",
       "    <tr>\n",
       "      <th>...</th>\n",
       "      <td>...</td>\n",
       "      <td>...</td>\n",
       "      <td>...</td>\n",
       "      <td>...</td>\n",
       "      <td>...</td>\n",
       "      <td>...</td>\n",
       "    </tr>\n",
       "    <tr>\n",
       "      <th>300016</th>\n",
       "      <td>499993</td>\n",
       "      <td>1963-06-04</td>\n",
       "      <td>DeForest</td>\n",
       "      <td>Mullainathan</td>\n",
       "      <td>M</td>\n",
       "      <td>1997-04-07</td>\n",
       "    </tr>\n",
       "    <tr>\n",
       "      <th>300019</th>\n",
       "      <td>499996</td>\n",
       "      <td>1953-03-07</td>\n",
       "      <td>Zito</td>\n",
       "      <td>Baaz</td>\n",
       "      <td>M</td>\n",
       "      <td>1990-09-27</td>\n",
       "    </tr>\n",
       "    <tr>\n",
       "      <th>300020</th>\n",
       "      <td>499997</td>\n",
       "      <td>1961-08-03</td>\n",
       "      <td>Berhard</td>\n",
       "      <td>Lenart</td>\n",
       "      <td>M</td>\n",
       "      <td>1986-04-21</td>\n",
       "    </tr>\n",
       "    <tr>\n",
       "      <th>300021</th>\n",
       "      <td>499998</td>\n",
       "      <td>1956-09-05</td>\n",
       "      <td>Patricia</td>\n",
       "      <td>Breugel</td>\n",
       "      <td>M</td>\n",
       "      <td>1993-10-13</td>\n",
       "    </tr>\n",
       "    <tr>\n",
       "      <th>300022</th>\n",
       "      <td>499999</td>\n",
       "      <td>1958-05-01</td>\n",
       "      <td>Sachin</td>\n",
       "      <td>Tsukuda</td>\n",
       "      <td>M</td>\n",
       "      <td>1997-11-30</td>\n",
       "    </tr>\n",
       "  </tbody>\n",
       "</table>\n",
       "<p>179972 rows × 6 columns</p>\n",
       "</div>"
      ],
      "text/plain": [
       "        emp_no  birth_date first_name     last_name gender   hire_date\n",
       "0        10001  1953-09-02     Georgi       Facello      M  1986-06-26\n",
       "2        10003  1959-12-03      Parto       Bamford      M  1986-08-28\n",
       "3        10004  1954-05-01  Chirstian       Koblick      M  1986-12-01\n",
       "4        10005  1955-01-21    Kyoichi      Maliniak      M  1989-09-12\n",
       "7        10008  1958-02-19     Saniya      Kalloufi      M  1994-09-15\n",
       "...        ...         ...        ...           ...    ...         ...\n",
       "300016  499993  1963-06-04   DeForest  Mullainathan      M  1997-04-07\n",
       "300019  499996  1953-03-07       Zito          Baaz      M  1990-09-27\n",
       "300020  499997  1961-08-03    Berhard        Lenart      M  1986-04-21\n",
       "300021  499998  1956-09-05   Patricia       Breugel      M  1993-10-13\n",
       "300022  499999  1958-05-01     Sachin       Tsukuda      M  1997-11-30\n",
       "\n",
       "[179972 rows x 6 columns]"
      ]
     },
     "execution_count": 12,
     "metadata": {},
     "output_type": "execute_result"
    }
   ],
   "source": [
    "# Pengolahan filter\n",
    "df[df['gender']=='M']"
   ]
  }
 ],
 "metadata": {
  "kernelspec": {
   "display_name": "jcbdaol",
   "language": "python",
   "name": "python3"
  },
  "language_info": {
   "codemirror_mode": {
    "name": "ipython",
    "version": 3
   },
   "file_extension": ".py",
   "mimetype": "text/x-python",
   "name": "python",
   "nbconvert_exporter": "python",
   "pygments_lexer": "ipython3",
   "version": "3.11.11"
  }
 },
 "nbformat": 4,
 "nbformat_minor": 5
}
